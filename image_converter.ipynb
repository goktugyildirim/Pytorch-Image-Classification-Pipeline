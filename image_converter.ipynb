{
 "cells": [
  {
   "cell_type": "code",
   "execution_count": null,
   "metadata": {},
   "outputs": [],
   "source": [
    "#Settings\n",
    "import matplotlib.pyplot as plt\n",
    "import matplotlib.image as mpimg\n",
    "import glob\n",
    "import numpy as np\n",
    "import cv2\n",
    "import sys\n",
    "import numpy\n",
    "from sklearn.model_selection import train_test_split\n",
    "import pandas as pd #data processing\n",
    "import warnings\n",
    "import matplotlib.image as mpimg\n",
    "import torch\n",
    "warnings.filterwarnings('ignore')\n",
    "numpy.set_printoptions(threshold=sys.maxsize) #full print setting\n",
    "#--------------------------------------------------------------------------------------\n",
    "import torch\n",
    "import PIL\n",
    "from PIL import Image\n",
    "import os\n",
    "\n",
    "image_path = \"C:/Users/Asus/Desktop/medical_mask_project/masked\"\n",
    "target_path = \"C:/Users/Asus/Desktop/clear_maksed/\"\n",
    "\n",
    "for i, filename in enumerate(os.listdir(image_path)):\n",
    "    \n",
    "    #print(filename)\n",
    "    \n",
    "    image = Image.open(os.path.join(image_path,filename))\n",
    "    \n",
    "    image.save(target_path + str(i) + \".png\")"
   ]
  }
 ],
 "metadata": {
  "kernelspec": {
   "display_name": "Python 3",
   "language": "python",
   "name": "python3"
  },
  "language_info": {
   "codemirror_mode": {
    "name": "ipython",
    "version": 3
   },
   "file_extension": ".py",
   "mimetype": "text/x-python",
   "name": "python",
   "nbconvert_exporter": "python",
   "pygments_lexer": "ipython3",
   "version": "3.7.4"
  }
 },
 "nbformat": 4,
 "nbformat_minor": 4
}
